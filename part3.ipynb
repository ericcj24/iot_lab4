{
 "cells": [
  {
   "cell_type": "code",
   "execution_count": null,
   "id": "9a5d5b07-56dd-402a-aec8-5b763790677a",
   "metadata": {},
   "outputs": [],
   "source": [
    "import pandas as pd\n",
    "import matplotlib.pyplot as plt\n",
    "import seaborn as sns\n",
    "from pyathena import connect\n",
    "from mpl_toolkits.mplot3d import Axes3D\n",
    "\n",
    "sns.set(style='whitegrid')\n",
    "\n",
    "def fetch_data_from_athena(s3_staging_dir, region_name, database, query):\n",
    "    conn = connect(s3_staging_dir=s3_staging_dir, region_name=region_name)\n",
    "    return pd.read_sql(query, conn)\n",
    "\n",
    "# Athena settings\n",
    "s3_staging_dir = 's3://athena-results-bucket/'\n",
    "region_name = 'us-east-2'\n",
    "database = 'vehicle_data_db'\n",
    "table_name = 'vehicle_data_table'\n",
    "query = f'SELECT * FROM {database}.{table_name}'\n",
    "\n",
    "data = fetch_data_from_athena(s3_staging_dir, region_name, database, query)\n",
    "\n",
    "data['timestep_time'] = pd.to_numeric(data['timestep_time'], errors='coerce')\n",
    "\n",
    "# Scatter plot: Vehicle Speed vs CO2 Emissions\n",
    "plt.figure(figsize=(12, 6))\n",
    "sns.scatterplot(data=data, x='vehicle_speed', y='vehicle_CO2', hue='car_id', palette='viridis', s=50)\n",
    "plt.title('Vehicle Speed vs CO2 Emissions')\n",
    "plt.xlabel('Speed (m/s)')\n",
    "plt.ylabel('CO2 Emissions (g/s)')\n",
    "plt.legend(title='Car ID')\n",
    "plt.savefig('speed_vs_CO2_emissions.png')\n",
    "plt.show()\n",
    "\n",
    "\n",
    "# Line plot: Fuel Consumption Over Time\n",
    "plt.figure(figsize=(12, 6))\n",
    "sns.lineplot(data=data, x='timestep_time', y='vehicle_fuel', hue='car_id', marker='o')\n",
    "plt.title('Vehicle Fuel Consumption Over Time')\n",
    "plt.xlabel('Time Step')\n",
    "plt.ylabel('Fuel Consumption (L/s)')\n",
    "plt.legend(title='Car ID')\n",
    "plt.savefig('fuel_consumption_over_time.png')\n",
    "plt.show()\n",
    "\n",
    "\n",
    "# Line plot: Vehicle Speed Over Time\n",
    "plt.figure(figsize=(12, 6))\n",
    "sns.lineplot(data=data, x='timestep_time', y='vehicle_speed', hue='car_id', marker='o')\n",
    "plt.title('Vehicle Speed Over Time')\n",
    "plt.xlabel('Time Step')\n",
    "plt.ylabel('Speed (m/s)')\n",
    "plt.legend(title='Car ID')\n",
    "plt.savefig('vehicle_speed_over_time.png')\n",
    "plt.show()\n"
   ]
  }
 ],
 "metadata": {
  "kernelspec": {
   "display_name": "Python 3 (ipykernel)",
   "language": "python",
   "name": "python3"
  },
  "language_info": {
   "codemirror_mode": {
    "name": "ipython",
    "version": 3
   },
   "file_extension": ".py",
   "mimetype": "text/x-python",
   "name": "python",
   "nbconvert_exporter": "python",
   "pygments_lexer": "ipython3",
   "version": "3.12.3"
  }
 },
 "nbformat": 4,
 "nbformat_minor": 5
}
